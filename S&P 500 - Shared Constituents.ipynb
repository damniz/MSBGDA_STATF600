{
 "cells": [
  {
   "cell_type": "code",
   "execution_count": 1,
   "id": "677be241",
   "metadata": {},
   "outputs": [],
   "source": [
    "import pandas as pd\n",
    "import json\n",
    "\n",
    "data_dir = \"./data\""
   ]
  },
  {
   "cell_type": "code",
   "execution_count": 2,
   "id": "adac902d",
   "metadata": {},
   "outputs": [
    {
     "name": "stdout",
     "output_type": "stream",
     "text": [
      "COMPANIES S&P 500 - 2012/01/31\n",
      "499\n",
      "['GHC', 'AZO', 'CMG', 'SHLD', 'ISRG', 'AN', 'DNB', 'PCLN', 'R', 'FLS', 'NFLX', 'SNA', 'FSLR', 'DV', 'GWW', 'RL', 'BIG', 'CF', 'MXA', 'NVLS', 'ARG', 'DO', 'HAR', 'FMC', 'LXK', 'ICE', 'WHR', 'TEG', 'WYNN', 'FFIV', 'IFF', 'TIE', 'SRCL', 'BCR', 'ANF', 'SHW', 'VFC', 'PDCO', 'WAT', 'AIZ', 'FII', 'PRGO', 'DVA', 'EXPE', 'TRIP', 'AVB', 'ROP', 'SNI', 'LH', 'LLL', 'BLK', 'BFB', 'TMK', 'OKE', 'BMS', 'JOY', 'AVY', 'ATI', 'MA', 'SUN', 'HP', 'PNW', 'BWA', 'CTAS', 'URBN', 'VAR', 'PKI', 'SJM', 'EW', 'PLL', 'SCG', 'HRS', 'GAS', 'HAS', 'APOL', 'FDO', 'DLTR', 'SIAL', 'AIV', 'EFX', 'PXD', 'LM', 'GR', 'RDC', 'MTZ', 'WPI', 'NDAQ', 'TIF', 'JEC', 'ORLY', 'VMC', 'CLX', 'DRI', 'NFX', 'MKC', 'LO', 'CRM', 'MOLX', 'EMN', 'HRL', 'GME', 'LEG', 'FISV', 'TSO', 'PSA', 'XRAY', 'ROK', 'RHI', 'CLF', 'JCP', 'USX', 'PCP', 'CVH', 'CERN', 'BEN', 'BXP', 'EQT', 'COL', 'PH', 'HSY', 'WYN', 'PPG', 'CSC', 'BEAM', 'GPC', 'RRC', 'FLIR', 'TAP', 'DGX', 'CBE', 'VRSN', 'WFM', 'LEN', 'TSS', 'PCL', 'JWN', 'CINF', 'BLL', 'HUM', 'OI', 'HSP', 'CHRW', 'APH', 'KLAC', 'TDC', 'DTE', 'SWK', 'FLR', 'MWV', 'BMC', 'STZ', 'NBL', 'ETR', 'ES', 'QEP', 'LIFE', 'CPB', 'ZBH', 'AKAM', 'TER', 'DF', 'ZION', 'JBL', 'XYL', 'VNO', 'DOV', 'IRM', 'CTXS', 'RRD', 'HCN', 'MCHP', 'RHT', 'HOT', 'SEE', 'CMI', 'MUR', 'MCO', 'WPX', 'LUK', 'CMA', 'PBI', 'CEG', 'MJN', 'COG', 'PWR', 'APD', 'SVU', 'EXPD', 'DPS', 'BDX', 'TE', 'CVC', 'ANRZQ', 'EL', 'CFN', 'POM', 'ADSK', 'CNX', 'AMP', 'KMX', 'UNS', 'LLTC', 'WEC', 'NRG', 'ROST', 'HOG', 'WDC', 'TGNA', 'FTI', 'SRE', 'BBBY', 'SNDK', 'NTRS', 'AEE', 'BIIB', 'FIS', 'GT', 'CAM', 'MCK', 'LTD', 'K', 'GOOGL', 'CMS', 'TROW', 'NE', 'ETFC', 'KSS', 'ABC', 'NTH', 'XLNX', 'NYX', 'FHN', 'MMI', 'DISCA', 'LOM', 'FRX', 'MAR', 'EOG', 'BTU', 'LDOS', 'OMC', 'DHI', 'CB', 'TXT', 'NI', 'CI', 'NBR', 'MSI', 'VTR', 'NWL', 'COH', 'ED', 'UUM', 'TSN', 'MHFI', 'HRB', 'SPG', 'BBY', 'PGN', 'FAST', 'PCS', 'EQR', 'INTU', 'IGT', 'MOS', 'HES', 'ADI', 'PX', 'ECL', 'CTSH', 'LNC', 'PFG', 'AG', 'LTR', 'CCE', 'IR', 'RSG', 'NUE', 'FDX', 'TW', 'STJ', 'HNZ', 'ALTR', 'XL', 'PAYX', 'AON', 'CBG', 'SYK', 'EIX', 'EA', 'ETN', 'NSC', 'PHM', 'CB', 'RAI', 'MAT', 'SWY', 'CAH', 'RTN', 'A', 'ANTM', 'GPS', 'SWN', 'GD', 'MAS', 'MPN', 'PCAR', 'NTAP', 'PBCT', 'AET', 'AMZN', 'CA', 'NKE', 'TJX', 'TMO', 'APA', 'MHS', 'AMT', 'KMB', 'DNR', 'DVN', 'PCG', 'KIM', 'HCP', 'PA', 'DE', 'CAG', 'FE', 'M', 'NEE', 'NOV', 'TEL', 'CNP', 'MYL', 'AVP', 'THC', 'COST', 'BHI', 'IP', 'AIG', 'CELG', 'HIG', 'IVZ', 'CCL', 'PLD', 'COF', 'WM', 'YUM', 'TYC', 'IPG', 'PRU', 'COV', 'AEP', 'ITW', 'UNP', 'CL', 'BRCM', 'XEL', 'ESRX', 'ADP', 'GNW', 'ADBE', 'STT', 'GS', 'NEM', 'AAZ', 'ALL', 'PEG', 'SLM', 'VISA', 'PNC', 'HCBK', 'JNPR', 'MON', 'WY', 'STI', 'MMC', 'DC', 'VIAB', 'VLO', 'BAX', 'LSI', 'D', 'DHR', 'PPL', 'WIN', 'AMD', 'WMB', 'SYY', 'SLE', 'KR', 'NVDA', 'CTL', 'PGR', 'WU', 'ACN', 'AES', 'GIS', 'CAT', 'SE', 'CBS', 'CHK', 'EXC', 'ADM', 'TGT', 'JCI', 'BBT', 'SPLS', 'MMM', 'MRO', 'DTV', 'HST', 'EMR', 'SYMC', 'BA', 'SBUX', 'GILD', 'EP', 'ALD', 'LUV', 'AMGN', 'OXY', 'HBAN', 'SO', 'WAG', 'UTX', 'HAL', 'FITB', 'DD', 'AAPL', 'FCX', 'KEY', 'UPS', 'MU', 'FTR', 'TWX', 'AEC', 'LLY', 'MCD', 'CSX', 'MDT', 'MWZ', 'AA', 'UNH', 'SWG', 'TXN', 'EBAY', 'IBM', 'DOW', 'BK', 'YHOO', 'LOW', 'RN', 'CVS', 'AMAT', 'COP', 'DUK', 'SLBA', 'XRX', 'BSX', 'MS', 'DELL', 'HD', 'ABT', 'PEP', 'GLW', 'QCI', 'BMY', 'PM', 'WMT', 'BRKB', 'KFT', 'DIS', 'USB', 'HPQ', 'CVX', 'EMC', 'MO', 'NCRA', 'KO', 'CMCSA', 'JNJ', 'PG', 'VZ', 'C', 'S', 'MRK', 'JPM', 'F', 'ORCL', 'XOM', 'INCO', 'WFC', 'CSCO', 'T', 'MSFT', 'PFE', 'BAC', 'GEC']\n",
      "COMPANIES S&P 500 - 2017/01/31\n",
      "509\n",
      "['AAPL', 'MSFT', 'XOM', 'AMZN', 'BRKB', 'JNJ', 'FB', 'JPM', 'GE', 'T', 'WFC', 'GOOGL', 'GOOG', 'PG', 'BAC', 'CVX', 'VZ', 'PFE', 'CMCSA', 'INTC', 'MRK', 'HD', 'DIS', 'KO', 'C', 'V', 'UNH', 'CSCO', 'IBM', 'PM', 'PEP', 'MO', 'ORCL', 'AMGN', 'SLB', 'MMM', 'MDT', 'MCD', 'MA', 'WMT', 'ABBV', 'GILD', 'BA', 'HON', 'CELG', 'UNP', 'GS', 'USB', 'CVS', 'UTX', 'BMY', 'AGN', 'SBUX', 'AVGO', 'QCOM', 'PCLN', 'TXN', 'UPS', 'TWX', 'LLY', 'ABT', 'COST', 'NKE', 'ACN', 'CHTR', 'WBA', 'MDLZ', 'DOW', 'DD', 'LOW', 'LMT', 'AIG', 'MS', 'CB', 'COP', 'NFLX', 'BIIB', 'TMO', 'MET', 'NVDA', 'AXP', 'PNC', 'EOG', 'NEE', 'SPG', 'CL', 'ADBE', 'CAT', 'DUK', 'KHC', 'GD', 'OXY', 'DHR', 'GM', 'CRM', 'SCHW', 'RAI', 'HAL', 'TJX', 'SO', 'F', 'D', 'MON', 'BK', 'FDX', 'ADP', 'BLK', 'PRU', 'PYPL', 'AMT', 'CSX', 'KMB', 'KMI', 'ESRX', 'RTN', 'COF', 'AET', 'JCI', 'CME', 'ANTM', 'NOC', 'ITW', 'YHOO', 'APC', 'SYK', 'HPE', 'EMR', 'BDX', 'CI', 'BBT', 'AMAT', 'GIS', 'TGT', 'PSX', 'MMC', 'DAL', 'ICE', 'NSC', 'PX', 'TRV', 'FOXA', 'EBAY', 'EXC', 'BSX', 'LUV', 'PSA', 'KR', 'ETN', 'CTSH', 'CCI', 'ECL', 'AEP', 'MCK', 'PCG', 'LYB', 'SPGI', 'DE', 'PXD', 'APD', 'VLO', 'AON', 'HUM', 'ALXN', 'SE', 'INTU', 'AFL', 'WM', 'SYF', 'STI', 'STT', 'ALL', 'ATVI', 'EQIX', 'DFS', 'REGN', 'ZTS', 'MAR', 'ISRG', 'STZ', 'BLKFDS', 'BHI', 'SYY', 'PPG', 'TEL', 'ROST', 'FIS', 'PLD', 'HPQ', 'SRE', 'ADM', 'CBS', 'MPC', 'EA', 'MTB', 'MU', 'GLW', 'ORLY', 'SHW', 'CAH', 'HCN', 'DVN', 'PPL', 'AVB', 'EIX', 'ZBH', 'PCAR', 'WMB', 'HCA', 'ILMN', 'BAX', 'WY', 'FISV', 'CCL', 'IP', 'ADI', 'AAL', 'WDC', 'YUM', 'NWL', 'APA', 'ED', 'CMI', 'PEG', 'EQR', 'VTR', 'PGR', 'VRTX', 'AZO', 'XEL', 'FCX', 'APH', 'EW', 'IR', 'CXO', 'UAL', 'OMC', 'BXP', 'USD', 'FITB', 'PH', 'PAYX', 'ROP', 'KEY', 'NEM', 'ROK', 'DLPH', 'SWK', 'DG', 'LRCX', 'WEC', 'CFG', 'NUE', 'HIG', 'K', 'TSN', 'VNO', 'DLTR', 'EL', 'AMP', 'TAP', 'RF', 'DTE', 'NTRS', 'ES', 'MYL', 'BCR', 'MCO', 'LVLT', 'MNST', 'SYMC', 'DLR', 'VMC', 'NBL', 'VFC', 'SWKS', 'DPS', 'FTV', 'TROW', 'CERN', 'CAG', 'ADSK', 'WLTW', 'ULTA', 'A', 'SJM', 'FTI', 'RCL', 'CLX', 'LNC', 'O', 'LLTC', 'PFG', 'FOX', 'HSY', 'MCHP', 'XLNX', 'ESS', 'HBAN', 'EXPE', 'VIAB', 'ABC', 'MLM', 'GGP', 'LB', 'HES', 'GPC', 'FAST', 'NOV', 'CTXS', 'EFX', 'MRO', 'HCP', 'CTL', 'LH', 'GWW', 'BEN', 'NLSN', 'MHK', 'RHT', 'BLL', 'MSI', 'WRK', 'HST', 'KLAC', 'STX', 'WHR', 'RSG', 'ADS', 'AWK', 'XRAY', 'MJN', 'FE', 'HSIC', 'L', 'XEC', 'ETR', 'VRSK', 'AEE', 'TXT', 'KMX', 'HRS', 'DGX', 'CMG', 'LLL', 'BBY', 'AAP', 'DOV', 'CPB', 'AKAM', 'CMS', 'AME', 'GPN', 'CHD', 'IVZ', 'COL', 'CMA', 'OKE', 'ALK', 'EMN', 'HOLX', 'WAT', 'MTD', 'CNP', 'SLG', 'MKC', 'IDXX', 'MOS', 'PRGO', 'MAS', 'CHRW', 'TDG', 'CNC', 'MAA', 'URI', 'UNM', 'KIM', 'COH', 'CINF', 'SNA', 'NTAP', 'EQT', 'ALB', 'JNPR', 'ETFC', 'FRT', 'UHS', 'DHI', 'XL', 'CTAS', 'DVA', 'HOG', 'ARNC', 'COG', 'PNR', 'SCG', 'LKQ', 'CA', 'HRL', 'AJG', 'TSCO', 'WFM', 'WU', 'IPG', 'EXPD', 'TSO', 'SEE', 'UDR', 'HAS', 'IFF', 'KSU', 'FL', 'AYI', 'CBG', 'MAT', 'EXR', 'COTY', 'DRI', 'COO', 'M', 'HBI', 'XYL', 'IRM', 'LEN', 'JBHT', 'FFIV', 'ZION', 'PNW', 'LNT', 'GT', 'WYN', 'FBHS', 'TIF', 'AMG', 'TSS', 'BFB', 'MAC', 'CF', 'BWA', 'QRVO', 'TMK', 'FMC', 'WYNN', 'NDAQ', 'NFX', 'EVHC', 'HAR', 'FLR', 'LUK', 'HP', 'AES', 'PVH', 'VRSN', 'SNI', 'VAR', 'NI', 'JEC', 'KSS', 'KORS', 'AIV', 'SRCL', 'AVY', 'FLS', 'LEG', 'PHM', 'ALLE', 'DISCK', 'RHI', 'RRC', 'BBBY', 'TRIP', 'SPLS', 'XRX', 'PBCT', 'PKI', 'GRMN', 'AIZ', 'RIG', 'PWR', 'SIG', 'MNK', 'NRG', 'JWN', 'GPS', 'RL', 'TGNA', 'FLIR', 'CHK', 'HRB', 'NWSA', 'MUR', 'DNB', 'NAVI', 'CSRA', 'DISCA', 'SWN', 'R', 'FTR', 'UAA', 'TDC', 'UA', 'AN', 'PDCO', 'PBI', 'ENDP', 'FSLR', 'URBN', 'UBFUT', 'NWS', 'ESH']\n"
     ]
    }
   ],
   "source": [
    "with open(f\"{data_dir}/sp500_constituents.json\") as file:\n",
    "    data = json.load(file)\n",
    "\n",
    "constituents_2012 = data[\"2012/01/31\"]\n",
    "print(\"COMPANIES S&P 500 - 2012/01/31\")\n",
    "print(len(constituents_2012))\n",
    "print(constituents_2012)\n",
    "\n",
    "constituents_2017 = data[\"2017/01/31\"]\n",
    "print(\"COMPANIES S&P 500 - 2017/01/31\")\n",
    "print(len(constituents_2017))\n",
    "print(constituents_2017)"
   ]
  },
  {
   "cell_type": "code",
   "execution_count": 3,
   "id": "de811f28",
   "metadata": {},
   "outputs": [
    {
     "name": "stdout",
     "output_type": "stream",
     "text": [
      "['AZO', 'CMG', 'ISRG', 'AN', 'DNB', 'PCLN', 'R', 'FLS', 'NFLX', 'SNA', 'FSLR', 'GWW', 'RL', 'CF', 'HAR', 'FMC', 'ICE', 'WHR', 'WYNN', 'FFIV', 'IFF', 'SRCL', 'BCR', 'SHW', 'VFC', 'PDCO', 'WAT', 'AIZ', 'PRGO', 'DVA', 'EXPE', 'TRIP', 'AVB', 'ROP', 'SNI', 'LH', 'LLL', 'BLK', 'BFB', 'TMK', 'OKE', 'AVY', 'MA', 'HP', 'PNW', 'BWA', 'CTAS', 'URBN', 'VAR', 'PKI', 'SJM', 'EW', 'SCG', 'HRS', 'HAS', 'DLTR', 'AIV', 'EFX', 'PXD', 'NDAQ', 'TIF', 'JEC', 'ORLY', 'VMC', 'CLX', 'DRI', 'NFX', 'MKC', 'CRM', 'EMN', 'HRL', 'LEG', 'FISV', 'TSO', 'PSA', 'XRAY', 'ROK', 'RHI', 'CERN', 'BEN', 'BXP', 'EQT', 'COL', 'PH', 'HSY', 'WYN', 'PPG', 'GPC', 'RRC', 'FLIR', 'TAP', 'DGX', 'VRSN', 'WFM', 'LEN', 'TSS', 'JWN', 'CINF', 'BLL', 'HUM', 'CHRW', 'APH', 'KLAC', 'TDC', 'DTE', 'SWK', 'FLR', 'STZ', 'NBL', 'ETR', 'ES', 'CPB', 'ZBH', 'AKAM', 'ZION', 'XYL', 'VNO', 'DOV', 'IRM', 'CTXS', 'HCN', 'MCHP', 'RHT', 'SEE', 'CMI', 'MUR', 'MCO', 'LUK', 'CMA', 'PBI', 'MJN', 'COG', 'PWR', 'APD', 'EXPD', 'DPS', 'BDX', 'EL', 'ADSK', 'AMP', 'KMX', 'LLTC', 'WEC', 'NRG', 'ROST', 'HOG', 'WDC', 'TGNA', 'FTI', 'SRE', 'BBBY', 'NTRS', 'AEE', 'BIIB', 'FIS', 'GT', 'MCK', 'K', 'GOOGL', 'CMS', 'TROW', 'ETFC', 'KSS', 'ABC', 'XLNX', 'DISCA', 'MAR', 'EOG', 'OMC', 'DHI', 'CB', 'TXT', 'NI', 'CI', 'MSI', 'VTR', 'NWL', 'COH', 'ED', 'TSN', 'HRB', 'SPG', 'BBY', 'FAST', 'EQR', 'INTU', 'MOS', 'HES', 'ADI', 'PX', 'ECL', 'CTSH', 'LNC', 'PFG', 'IR', 'RSG', 'NUE', 'FDX', 'XL', 'PAYX', 'AON', 'CBG', 'SYK', 'EIX', 'EA', 'ETN', 'NSC', 'PHM', 'CB', 'RAI', 'MAT', 'CAH', 'RTN', 'A', 'ANTM', 'GPS', 'SWN', 'GD', 'MAS', 'PCAR', 'NTAP', 'PBCT', 'AET', 'AMZN', 'CA', 'NKE', 'TJX', 'TMO', 'APA', 'AMT', 'KMB', 'DVN', 'PCG', 'KIM', 'HCP', 'DE', 'CAG', 'FE', 'M', 'NEE', 'NOV', 'TEL', 'CNP', 'MYL', 'COST', 'BHI', 'IP', 'AIG', 'CELG', 'HIG', 'IVZ', 'CCL', 'PLD', 'COF', 'WM', 'YUM', 'IPG', 'PRU', 'AEP', 'ITW', 'UNP', 'CL', 'XEL', 'ESRX', 'ADP', 'ADBE', 'STT', 'GS', 'NEM', 'ALL', 'PEG', 'PNC', 'JNPR', 'MON', 'WY', 'STI', 'MMC', 'VIAB', 'VLO', 'BAX', 'D', 'DHR', 'PPL', 'WMB', 'SYY', 'KR', 'NVDA', 'CTL', 'PGR', 'WU', 'ACN', 'AES', 'GIS', 'CAT', 'SE', 'CBS', 'CHK', 'EXC', 'ADM', 'TGT', 'JCI', 'BBT', 'SPLS', 'MMM', 'MRO', 'HST', 'EMR', 'SYMC', 'BA', 'SBUX', 'GILD', 'LUV', 'AMGN', 'OXY', 'HBAN', 'SO', 'UTX', 'HAL', 'FITB', 'DD', 'AAPL', 'FCX', 'KEY', 'UPS', 'MU', 'FTR', 'TWX', 'LLY', 'MCD', 'CSX', 'MDT', 'UNH', 'TXN', 'EBAY', 'IBM', 'DOW', 'BK', 'YHOO', 'LOW', 'CVS', 'AMAT', 'COP', 'DUK', 'XRX', 'BSX', 'MS', 'HD', 'ABT', 'PEP', 'GLW', 'BMY', 'PM', 'WMT', 'BRKB', 'DIS', 'USB', 'HPQ', 'CVX', 'MO', 'KO', 'CMCSA', 'JNJ', 'PG', 'VZ', 'C', 'MRK', 'JPM', 'F', 'ORCL', 'XOM', 'WFC', 'CSCO', 'T', 'MSFT', 'PFE', 'BAC']\n",
      "376\n"
     ]
    }
   ],
   "source": [
    "shared_constituents = []\n",
    "for constituent in constituents_2012:\n",
    "    if constituent in constituents_2017:\n",
    "        shared_constituents.append(constituent)\n",
    "print(shared_constituents)\n",
    "print(len(shared_constituents))"
   ]
  },
  {
   "cell_type": "code",
   "execution_count": 4,
   "id": "c7529fe4",
   "metadata": {},
   "outputs": [
    {
     "data": {
      "text/html": [
       "<div>\n",
       "<style scoped>\n",
       "    .dataframe tbody tr th:only-of-type {\n",
       "        vertical-align: middle;\n",
       "    }\n",
       "\n",
       "    .dataframe tbody tr th {\n",
       "        vertical-align: top;\n",
       "    }\n",
       "\n",
       "    .dataframe thead th {\n",
       "        text-align: right;\n",
       "    }\n",
       "</style>\n",
       "<table border=\"1\" class=\"dataframe\">\n",
       "  <thead>\n",
       "    <tr style=\"text-align: right;\">\n",
       "      <th></th>\n",
       "      <th>Symbol</th>\n",
       "    </tr>\n",
       "  </thead>\n",
       "  <tbody>\n",
       "    <tr>\n",
       "      <th>0</th>\n",
       "      <td>A</td>\n",
       "    </tr>\n",
       "    <tr>\n",
       "      <th>1</th>\n",
       "      <td>AAPL</td>\n",
       "    </tr>\n",
       "    <tr>\n",
       "      <th>2</th>\n",
       "      <td>ABC</td>\n",
       "    </tr>\n",
       "    <tr>\n",
       "      <th>3</th>\n",
       "      <td>ABT</td>\n",
       "    </tr>\n",
       "    <tr>\n",
       "      <th>4</th>\n",
       "      <td>ACN</td>\n",
       "    </tr>\n",
       "    <tr>\n",
       "      <th>...</th>\n",
       "      <td>...</td>\n",
       "    </tr>\n",
       "    <tr>\n",
       "      <th>371</th>\n",
       "      <td>XYL</td>\n",
       "    </tr>\n",
       "    <tr>\n",
       "      <th>372</th>\n",
       "      <td>YHOO</td>\n",
       "    </tr>\n",
       "    <tr>\n",
       "      <th>373</th>\n",
       "      <td>YUM</td>\n",
       "    </tr>\n",
       "    <tr>\n",
       "      <th>374</th>\n",
       "      <td>ZBH</td>\n",
       "    </tr>\n",
       "    <tr>\n",
       "      <th>375</th>\n",
       "      <td>ZION</td>\n",
       "    </tr>\n",
       "  </tbody>\n",
       "</table>\n",
       "<p>376 rows × 1 columns</p>\n",
       "</div>"
      ],
      "text/plain": [
       "    Symbol\n",
       "0        A\n",
       "1     AAPL\n",
       "2      ABC\n",
       "3      ABT\n",
       "4      ACN\n",
       "..     ...\n",
       "371    XYL\n",
       "372   YHOO\n",
       "373    YUM\n",
       "374    ZBH\n",
       "375   ZION\n",
       "\n",
       "[376 rows x 1 columns]"
      ]
     },
     "execution_count": 4,
     "metadata": {},
     "output_type": "execute_result"
    }
   ],
   "source": [
    "shared_constituents.sort()\n",
    "\n",
    "df2 = pd.DataFrame(shared_constituents, columns=[\"Symbol\"])\n",
    "df2.to_csv(f\"{data_dir}/S&P500_SharedConstituents.csv\", index=False)\n",
    "df2"
   ]
  }
 ],
 "metadata": {
  "kernelspec": {
   "display_name": "Python 3 (ipykernel)",
   "language": "python",
   "name": "python3"
  },
  "language_info": {
   "codemirror_mode": {
    "name": "ipython",
    "version": 3
   },
   "file_extension": ".py",
   "mimetype": "text/x-python",
   "name": "python",
   "nbconvert_exporter": "python",
   "pygments_lexer": "ipython3",
   "version": "3.8.12"
  }
 },
 "nbformat": 4,
 "nbformat_minor": 5
}
